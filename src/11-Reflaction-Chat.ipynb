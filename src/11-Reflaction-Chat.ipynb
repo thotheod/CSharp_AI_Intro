{
 "cells": [
  {
   "cell_type": "markdown",
   "metadata": {},
   "source": [
    "__Use case (WIP)__\n",
    "\n",
    "\n",
    "This use case is will be showcasing how to use the Assisten API to chat with already compiled code which is provided as a nuget packaget. It will should work with any nuget that contains a dll and a xml file with a documentation in it."
   ]
  },
  {
   "cell_type": "markdown",
   "metadata": {},
   "source": [
    "__Prerequisits__\n",
    "\n",
    "To run this sample either a [GPT-4 Turbo with Vision](https://learn.microsoft.com/en-us/azure/ai-services/openai/how-to/gpt-with-vision?tabs=rest%2Csystem-assigned%2Cresource) model or [GPT-4o](https://learn.microsoft.com/en-us/azure/ai-services/openai/concepts/models#gpt-4o-and-gpt-4-turbo) model is requiered."
   ]
  },
  {
   "cell_type": "code",
   "execution_count": null,
   "metadata": {
    "dotnet_interactive": {
     "language": "csharp"
    },
    "polyglot_notebook": {
     "kernelName": "csharp"
    }
   },
   "outputs": [],
   "source": [
    "#r \"nuget: Microsoft.SemanticKernel\"\n",
    "\n",
    "#r \"nuget: Azure.ResourceManager.Storage\"\n",
    "#r \"nuget: Azure.ResourceManager.KeyVault\"\n",
    "\n",
    "#!import config/Settings.cs\n",
    "#!import plugins/ReflectionPlugin.cs\n",
    "#!import helpers/AssemblyDocumentationHelper.cs\n",
    "\n",
    "using Microsoft.SemanticKernel;\n",
    "using Microsoft.SemanticKernel.ChatCompletion;\n",
    "using Microsoft.SemanticKernel.Connectors.OpenAI;"
   ]
  },
  {
   "cell_type": "code",
   "execution_count": null,
   "metadata": {
    "dotnet_interactive": {
     "language": "csharp"
    },
    "polyglot_notebook": {
     "kernelName": "csharp"
    }
   },
   "outputs": [],
   "source": [
    "using Kernel = Microsoft.SemanticKernel.Kernel;\n",
    "\n",
    "#pragma warning disable SKEXP0001, SKEXP0010\n",
    "\n",
    "var settings = Settings.LoadFromFile(\"config/settings.json\");\n",
    "var builder = Kernel.CreateBuilder();\n",
    "\n",
    "builder\n",
    "    .AddAzureOpenAIChatCompletion(settings.model, settings.azureEndpoint, settings.apiKey)\n",
    "    .Plugins.AddFromType<ReflectionPlugin>();\n",
    "\n",
    "var kernel = builder.Build();\n",
    "var chatGPT = kernel.GetRequiredService<IChatCompletionService>();"
   ]
  },
  {
   "cell_type": "code",
   "execution_count": null,
   "metadata": {
    "dotnet_interactive": {
     "language": "csharp"
    },
    "polyglot_notebook": {
     "kernelName": "csharp"
    }
   },
   "outputs": [],
   "source": [
    "var systemMessage = \n",
    "\"\"\"\n",
    "You are a chat helping a c# developer getting inforametion about types.\n",
    "\"\"\";\n",
    "\n",
    "var chat = new ChatHistory(systemMessage);"
   ]
  },
  {
   "cell_type": "markdown",
   "metadata": {},
   "source": [
    "__Streaming__\n",
    "\n",
    "To use plugins we have to use a different GetMessage Method. \n",
    "\n",
    "Instead of using [GetChatMessageContentAsync](https://learn.microsoft.com/en-us/dotnet/api/microsoft.semantickernel.chatcompletion.ichatcompletionservice.getchatmessagecontentsasync?view=semantic-kernel-dotnet) we have to use [GetStreamingChatMessageContentsAsync](https://learn.microsoft.com/en-us/dotnet/api/microsoft.semantickernel.chatcompletion.ichatcompletionservice.getstreamingchatmessagecontentsasync?view=semantic-kernel-dotnet). If we would not change to the streaming method, semantic kernel is not able to call functions."
   ]
  },
  {
   "cell_type": "code",
   "execution_count": null,
   "metadata": {
    "dotnet_interactive": {
     "language": "csharp"
    },
    "polyglot_notebook": {
     "kernelName": "csharp"
    }
   },
   "outputs": [],
   "source": [
    "var promptSettings = new OpenAIPromptExecutionSettings()\n",
    "    {\n",
    "        MaxTokens = 4000,\n",
    "        ToolCallBehavior = ToolCallBehavior.AutoInvokeKernelFunctions,\n",
    "    };\n",
    "\n",
    "Func<string, Task> Chat = async (string input) => {\n",
    "    chat.AddUserMessage(input);\n",
    "\n",
    "     StringBuilder sb = new();\n",
    "    await foreach (var message in chatGPT.GetStreamingChatMessageContentsAsync(chat, promptSettings, kernel))\n",
    "    {\n",
    "        sb.Append(message.Content);\n",
    "    }\n",
    "    var assistantReply = sb.ToString();\n",
    "    chat.AddAssistantMessage(assistantReply);\n",
    "\n",
    "    Console.WriteLine($\"\\nBot:\");\n",
    "    Console.WriteLine($\"{assistantReply}\\n\");\n",
    "};"
   ]
  },
  {
   "cell_type": "code",
   "execution_count": null,
   "metadata": {},
   "outputs": [],
   "source": [
    "await Chat(\"Can you give me the path to the latest version of the Azure.ResourceManager.Storage assembly?\");"
   ]
  },
  {
   "cell_type": "code",
   "execution_count": null,
   "metadata": {},
   "outputs": [],
   "source": [
    "await Chat(\"Can you tell me something about the 'StorageAccountResource' in that assembly?\");"
   ]
  },
  {
   "cell_type": "code",
   "execution_count": null,
   "metadata": {},
   "outputs": [],
   "source": [
    "await Chat(\"Can you list me all the members of the 'StorageAccountResource' ?\");"
   ]
  },
  {
   "cell_type": "code",
   "execution_count": null,
   "metadata": {
    "dotnet_interactive": {
     "language": "csharp"
    },
    "polyglot_notebook": {
     "kernelName": "csharp"
    }
   },
   "outputs": [],
   "source": [
    "await Chat(\"Can you tell me more aboute the 'CreateResourceIdentifier' method ?\");"
   ]
  }
 ],
 "metadata": {
  "kernelspec": {
   "display_name": ".NET (C#)",
   "language": "C#",
   "name": ".net-csharp"
  },
  "polyglot_notebook": {
   "kernelInfo": {
    "defaultKernelName": "csharp",
    "items": [
     {
      "aliases": [],
      "name": "csharp"
     }
    ]
   }
  }
 },
 "nbformat": 4,
 "nbformat_minor": 2
}
