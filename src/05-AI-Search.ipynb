{
 "cells": [
  {
   "cell_type": "code",
   "execution_count": 1,
   "metadata": {
    "dotnet_interactive": {
     "language": "csharp"
    },
    "polyglot_notebook": {
     "kernelName": "csharp"
    }
   },
   "outputs": [],
   "source": [
    "#r \"nuget: Microsoft.SemanticKernel, 1.17.2\"\n",
    "#r \"nuget: SkiaSharp\"\n",
    "#r \"nuget: Microsoft.SemanticKernel.Connectors.AzureAISearch, 1.6.3-alpha\"\n",
    "#r \"nuget: System.Linq.Async\"\n",
    "\n",
    "#!import config/Settings.cs\n",
    "#!import config/Utils.cs\n",
    "#!import config/SkiaUtils.cs\n",
    "\n",
    "using Microsoft.SemanticKernel;\n",
    "using Microsoft.SemanticKernel.Connectors.OpenAI;\n",
    "using Microsoft.SemanticKernel.Memory;\n",
    "using Microsoft.SemanticKernel.Connectors.AzureAISearch;\n",
    "using Microsoft.SemanticKernel.ChatCompletion;\n"
   ]
  },
  {
   "cell_type": "code",
   "execution_count": 2,
   "metadata": {
    "dotnet_interactive": {
     "language": "csharp"
    },
    "polyglot_notebook": {
     "kernelName": "csharp"
    }
   },
   "outputs": [],
   "source": [
    "using Kernel = Microsoft.SemanticKernel.Kernel;\n",
    "\n",
    "var settings  = Settings.LoadFromFile(\"config/settings.json\");\n",
    "#pragma warning disable SKEXP0001, SKEXP0020, SKEXP0010\n",
    "\n",
    "var builder = Kernel.CreateBuilder();\n",
    "\n",
    "builder.AddAzureOpenAIChatCompletion(settings.model, settings.azureEndpoint, settings.apiKey);\n",
    "\n",
    "var kernel = builder.Build();\n",
    "var chatGPT = kernel.GetRequiredService<IChatCompletionService>();"
   ]
  },
  {
   "cell_type": "markdown",
   "metadata": {},
   "source": [
    "__Chunking__\n",
    "\n",
    "Split the data into smaller pieces. In this case paragraphs."
   ]
  },
  {
   "cell_type": "code",
   "execution_count": 3,
   "metadata": {
    "dotnet_interactive": {
     "language": "csharp"
    },
    "polyglot_notebook": {
     "kernelName": "csharp"
    }
   },
   "outputs": [],
   "source": [
    "using System.IO;\n",
    "\n",
    "var filename = \"data/ai search/poem.txt\";\n",
    "var poemParagraphs = File.ReadAllText(filename).\n",
    "Split(new string[] { \"\\r\\n\\r\\n\", \"\\n\\n\" }, StringSplitOptions.RemoveEmptyEntries);\n"
   ]
  },
  {
   "cell_type": "markdown",
   "metadata": {},
   "source": [
    "__Adding data to the index__\n",
    "\n",
    "For the data storage part an Azure AI Search service is used."
   ]
  },
  {
   "cell_type": "code",
   "execution_count": 4,
   "metadata": {
    "dotnet_interactive": {
     "language": "csharp"
    },
    "polyglot_notebook": {
     "kernelName": "csharp"
    }
   },
   "outputs": [],
   "source": [
    "using System.Collections;\n",
    "using System.Linq;\n",
    "using System.Text.Json;\n",
    "\n",
    "var collectionName = \"PoenIndex\";\n",
    "\n",
    "#pragma warning disable SKEXP0001, SKEXP0020, SKEXP0010\n",
    "var memory = new MemoryBuilder()\n",
    "                    .WithAzureOpenAITextEmbeddingGeneration(settings.textembeddingmodel, settings.azureEndpoint, settings.apiKey)\n",
    "                    .WithMemoryStore(new AzureAISearchMemoryStore(settings.aisearchendpoint, settings.aisearchkey))\n",
    "                    .Build();\n",
    "\n",
    "\n",
    "foreach (var paragraph in poemParagraphs)\n",
    "{\n",
    "    await memory.SaveInformationAsync(\n",
    "        collection: collectionName,\n",
    "        text: paragraph,\n",
    "        id: paragraph.GetHashCode().ToString(),\n",
    "        description: paragraph,\n",
    "        additionalMetadata: JsonSerializer.Serialize(new { filename })\n",
    "\n",
    "            );\n",
    "}"
   ]
  },
  {
   "cell_type": "code",
   "execution_count": 5,
   "metadata": {
    "dotnet_interactive": {
     "language": "csharp"
    },
    "polyglot_notebook": {
     "kernelName": "csharp"
    }
   },
   "outputs": [],
   "source": [
    "var systemMessage = \n",
    "\"\"\"\n",
    "You are a helpfull asssitant.\n",
    "You help users getting answers on their questions.\n",
    "Please also explain why you think the answer is correct and how you came up with it.\n",
    "\"\"\";\n",
    "\n",
    "var chat = new ChatHistory(systemMessage);\n",
    "\n",
    "string GetUserMessage(List<string> messages, string question)\n",
    "{\n",
    "    var sb = new StringBuilder();\n",
    "    sb.AppendLine(\"Kindly utilize the discovered results to respond to the provided question.\");\n",
    "    sb.AppendLine(\"# Question\");\n",
    "    sb.AppendLine(question);\n",
    "    sb.AppendLine(\"# Found Results:\");\n",
    "    for(int i = 0; i<messages.Count; i++) \n",
    "    {\n",
    "        sb.AppendLine($\"- {i+1}\");\n",
    "        sb.AppendLine(messages[i]);\n",
    "    }\n",
    "    return sb.ToString();\n",
    "}\n"
   ]
  },
  {
   "cell_type": "code",
   "execution_count": 6,
   "metadata": {
    "dotnet_interactive": {
     "language": "csharp"
    },
    "polyglot_notebook": {
     "kernelName": "csharp"
    }
   },
   "outputs": [],
   "source": [
    "var question = new[]{\"Did the Unicorn got captured?\", \"What spell has the developer woven?\"};\n",
    "foreach(var q in question)\n",
    "{\n",
    "    Console.WriteLine($\"###\");\n",
    "    Console.WriteLine($\"Question:\");\n",
    "    Console.WriteLine($\"{q}\");\n",
    "    var results = await memory.SearchAsync(collectionName, q, limit: 2).ToListAsync();\n",
    "    var textResult = results.Select(r => r.Metadata.Description).ToList();\n",
    "    \n",
    "    chat.AddUserMessage(GetUserMessage(textResult, q));\n",
    "\n",
    "    var assistantReply = await chatGPT.GetChatMessageContentAsync(chat, new OpenAIPromptExecutionSettings(){\n",
    "        Temperature = 0.7\n",
    "    });\n",
    "    chat.AddAssistantMessage(assistantReply.Content);\n",
    "\n",
    "    Console.WriteLine($\"Answer:\");\n",
    "    Console.WriteLine($\"{assistantReply}\");\n",
    "    Console.WriteLine($\"\");\n",
    "}"
   ]
  }
 ],
 "metadata": {
  "kernelspec": {
   "display_name": ".NET (C#)",
   "language": "C#",
   "name": ".net-csharp"
  },
  "polyglot_notebook": {
   "kernelInfo": {
    "defaultKernelName": "csharp",
    "items": [
     {
      "aliases": [],
      "name": "csharp"
     }
    ]
   }
  }
 },
 "nbformat": 4,
 "nbformat_minor": 2
}
