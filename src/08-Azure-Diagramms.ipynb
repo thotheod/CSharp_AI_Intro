{
 "cells": [
  {
   "cell_type": "markdown",
   "metadata": {},
   "source": [
    "__Info__\n",
    "\n",
    "For an enhanced experience with this notebook, particularly for viewing and creating diagrams directly within Visual Studio Code, it is highly recommended to install the \"Eraser Diagrams\" extension. This extension allows for the preview and creation of Eraser diagrams seamlessly within your IDE environment.\n",
    "\n",
    "[Install Eraser Diagrams Extension](https://marketplace.visualstudio.com/items?itemName=EraserLabs.eraserlabs)"
   ]
  },
  {
   "cell_type": "code",
   "execution_count": null,
   "metadata": {
    "dotnet_interactive": {
     "language": "csharp"
    },
    "polyglot_notebook": {
     "kernelName": "csharp"
    }
   },
   "outputs": [],
   "source": [
    "#r \"nuget: Microsoft.SemanticKernel\"\n",
    "\n",
    "#!import config/Settings.cs\n",
    "#!import plugins/FilesPlugin.cs\n",
    "\n",
    "using Microsoft.SemanticKernel;\n",
    "using Microsoft.SemanticKernel.ChatCompletion;\n",
    "using Microsoft.SemanticKernel.Connectors.OpenAI;"
   ]
  },
  {
   "cell_type": "code",
   "execution_count": null,
   "metadata": {
    "dotnet_interactive": {
     "language": "csharp"
    },
    "polyglot_notebook": {
     "kernelName": "csharp"
    }
   },
   "outputs": [],
   "source": [
    "using System.IO;\n",
    "\n",
    "public class Architecture\n",
    "{\n",
    "    public string Request { get; set; }\n",
    "    public string Response { get; set; }\n",
    "} \n",
    " \n",
    "static string ParseFile(string filePath)\n",
    "{\n",
    "    var fileContent = File.ReadAllText(filePath);\n",
    "\n",
    "        // Splitting the content into Request and Response\n",
    "        var sections = fileContent.Split(new string[] { \"#Request\", \"#Response\" }, StringSplitOptions.RemoveEmptyEntries);\n",
    "        if (sections.Length >= 2)\n",
    "        {\n",
    "            var setup = new Architecture\n",
    "            {\n",
    "                Request = sections[0].Trim(),\n",
    "                Response = sections[1].Trim()\n",
    "            };\n",
    "\n",
    "            // Serialize to JSON\n",
    "        return JsonSerializer.Serialize(setup);\n",
    "    }\n",
    "    else\n",
    "    {\n",
    "        throw new Exception(\"Invalid file format\");\n",
    "    }\n",
    "}"
   ]
  },
  {
   "cell_type": "markdown",
   "metadata": {},
   "source": [
    "__System Prompt Grounding__\n",
    "\n",
    "Compared to the other samples the system prompt is a little bit more complicated.\n",
    "\n",
    "Instead of just giving the model a persona and some chracteristics, [Grounding](https://techcommunity.microsoft.com/t5/fasttrack-for-azure/grounding-llms/ba-p/3843857) is used to teach the model how to create azure architectures using eraserdiagramm.\n",
    "\n",
    "Beside of adding sample architectures also a list of [icons](https://docs.eraser.io/docs/icons) supported gets added to the systemprompt. This helps the model to find the right icons for the resources in the diagramm.\n"
   ]
  },
  {
   "cell_type": "code",
   "execution_count": null,
   "metadata": {
    "dotnet_interactive": {
     "language": "csharp"
    },
    "polyglot_notebook": {
     "kernelName": "csharp"
    }
   },
   "outputs": [],
   "source": [
    "var files = Directory.GetFiles(\".\\\\data\\\\eraser\\\\samples\");\n",
    "var archs = files.Select(f => ParseFile(f)).ToList();\n",
    "\n",
    "var icons = File.ReadAllText(\".\\\\data\\\\eraser\\\\icons.json\");\n",
    "\n",
    "var eraserdiagram_template_promnpt = \n",
    "$\"\"\"\n",
    "You are an expert in creating earaserdiagrams. \n",
    "Make sure that all open open cury braces are closed with a closing brace.\n",
    "Make sure the first line always is cloud-architecture-diagram.\n",
    "Also try to select the most appropriate icons for each resource based on the provided icons.\n",
    "\n",
    "For reference you can use the following samples:\n",
    "\n",
    "## Samples:\n",
    "{JsonSerializer.Serialize(archs)}\n",
    "\n",
    "\n",
    "## Icons:\n",
    "{icons}\n",
    "\"\"\";\n"
   ]
  },
  {
   "cell_type": "code",
   "execution_count": null,
   "metadata": {
    "dotnet_interactive": {
     "language": "csharp"
    },
    "polyglot_notebook": {
     "kernelName": "csharp"
    }
   },
   "outputs": [],
   "source": [
    "using Kernel = Microsoft.SemanticKernel.Kernel;\n",
    "\n",
    "#pragma warning disable SKEXP0001, SKEXP0010\n",
    "\n",
    "var settings = Settings.LoadFromFile(\"config/settings.json\");\n",
    "\n",
    "var builder = Kernel.CreateBuilder();\n",
    "\n",
    "builder.AddAzureOpenAIChatCompletion(settings.model, settings.azureEndpoint, settings.apiKey)\n",
    "    .Plugins.AddFromType<FilesPlugin>();\n",
    "\n",
    "var kernel = builder.Build();\n",
    "var chatGPT = kernel.GetRequiredService<IChatCompletionService>();"
   ]
  },
  {
   "cell_type": "code",
   "execution_count": null,
   "metadata": {
    "dotnet_interactive": {
     "language": "csharp"
    },
    "polyglot_notebook": {
     "kernelName": "csharp"
    }
   },
   "outputs": [],
   "source": [
    "var chat = new ChatHistory(eraserdiagram_template_promnpt);"
   ]
  },
  {
   "cell_type": "code",
   "execution_count": null,
   "metadata": {
    "dotnet_interactive": {
     "language": "csharp"
    },
    "polyglot_notebook": {
     "kernelName": "csharp"
    }
   },
   "outputs": [],
   "source": [
    "var promptSettings = new OpenAIPromptExecutionSettings()\n",
    "    {\n",
    "        MaxTokens = 4000,\n",
    "        ToolCallBehavior = ToolCallBehavior.AutoInvokeKernelFunctions,\n",
    "    };\n",
    "\n",
    "Func<string, Task> Chat = async (string input) => {\n",
    "    chat.AddUserMessage(input);\n",
    "\n",
    "     StringBuilder sb = new();\n",
    "    await foreach (var message in chatGPT.GetStreamingChatMessageContentsAsync(chat, promptSettings, kernel))\n",
    "    {\n",
    "        sb.Append(message.Content);\n",
    "    }\n",
    "    var assistantReply = sb.ToString();\n",
    "    chat.AddAssistantMessage(assistantReply);\n",
    "\n",
    "    Console.WriteLine($\"\\nBot:\");\n",
    "    Console.WriteLine($\"{assistantReply}\\n\");\n",
    "};"
   ]
  },
  {
   "cell_type": "code",
   "execution_count": null,
   "metadata": {
    "dotnet_interactive": {
     "language": "csharp"
    },
    "polyglot_notebook": {
     "kernelName": "csharp"
    }
   },
   "outputs": [],
   "source": [
    "#pragma warning disable SKEXP0001\n",
    "\n",
    "var user_prompt= \"\"\"\n",
    "I would like to create an Azure architecture diagram. \n",
    "The architecture should include a subscription with two ResourceGroups. \n",
    "Each ResourceGroup will contain Azure Function apps, a storage account, and a SQL Database.\n",
    "All the Function apps should be connected to a single key vault, which will be deployed in a separate ResourceGroup named SharedResource. \n",
    "The SharedResource group will also include an Azure LogAnalytics workspace and Application Insights, both of which will be utilized by the Function apps.\n",
    "Additionally, the Function apps will be connected to the SQL Database and the storage account within their respective ResourceGroups. \n",
    "\"\"\";\n",
    "\n",
    "\n",
    "await Chat(user_prompt);\n"
   ]
  },
  {
   "cell_type": "code",
   "execution_count": null,
   "metadata": {
    "dotnet_interactive": {
     "language": "csharp"
    },
    "polyglot_notebook": {
     "kernelName": "csharp"
    }
   },
   "outputs": [],
   "source": [
    "await Chat(\"Please write the code to a file called 'azure-architecture.eraserdiagram' in a subfolder called architectures in the current directory. \");"
   ]
  }
 ],
 "metadata": {
  "kernelspec": {
   "display_name": ".NET (C#)",
   "language": "C#",
   "name": ".net-csharp"
  },
  "polyglot_notebook": {
   "kernelInfo": {
    "defaultKernelName": "csharp",
    "items": [
     {
      "aliases": [],
      "name": "csharp"
     }
    ]
   }
  }
 },
 "nbformat": 4,
 "nbformat_minor": 2
}
